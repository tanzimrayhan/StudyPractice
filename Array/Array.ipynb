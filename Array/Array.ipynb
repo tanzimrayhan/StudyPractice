{
 "cells": [
  {
   "cell_type": "markdown",
   "id": "2ad059a5",
   "metadata": {},
   "source": [
    "# Array"
   ]
  },
  {
   "cell_type": "markdown",
   "id": "60cac505",
   "metadata": {},
   "source": [
    "## How to add an element to an array"
   ]
  },
  {
   "cell_type": "code",
   "execution_count": 2,
   "id": "2f0fe0a2",
   "metadata": {},
   "outputs": [
    {
     "name": "stdout",
     "output_type": "stream",
     "text": [
      "[1]\n"
     ]
    }
   ],
   "source": [
    "arr1=[]\n",
    "arr1.append(1);\n",
    "print(arr1);\n",
    "\n"
   ]
  },
  {
   "cell_type": "markdown",
   "id": "4ae80b26",
   "metadata": {},
   "source": [
    "###Compare elements"
   ]
  },
  {
   "cell_type": "code",
   "execution_count": 5,
   "id": "cc4fb297",
   "metadata": {},
   "outputs": [
    {
     "name": "stdout",
     "output_type": "stream",
     "text": [
      "7\n",
      "2\n",
      "1\n"
     ]
    }
   ],
   "source": [
    "arr1=[1,3,7]\n",
    "arr2=[5,7,8]\n",
    "\n",
    "for i in arr1:\n",
    "    for j in arr2:\n",
    "        if(i==j):\n",
    "            print(i);\n",
    "            print(arr1.index(i));\n",
    "            print(arr2.index(i));\n",
    "            "
   ]
  },
  {
   "cell_type": "markdown",
   "id": "26931e5b",
   "metadata": {},
   "source": [
    "Time Complexity=O(n^2)"
   ]
  },
  {
   "cell_type": "markdown",
   "id": "0f95325d",
   "metadata": {},
   "source": [
    "## Linear Search"
   ]
  },
  {
   "cell_type": "code",
   "execution_count": 16,
   "id": "19f89bd8",
   "metadata": {},
   "outputs": [
    {
     "name": "stdout",
     "output_type": "stream",
     "text": [
      "30\n"
     ]
    }
   ],
   "source": [
    "import math\n",
    "arr1=[5,15,25,30,35] #increasing order e sorted\n",
    "target=30\n",
    "\n",
    "def linearSearch(array, target):\n",
    "    for i in arr1:\n",
    "        if(i==target):\n",
    "            print (arr1.index(i));\n",
    "            \n",
    "\n",
    "\n",
    "\n",
    "def binarySearch(array,target):\n",
    "    halfLength=math.floor(len(array)/2);\n",
    "    if(array[halfLength]==target):\n",
    "        print(array[halfLength]);\n",
    "        return;\n",
    "    elif (array[halfLength]<target):\n",
    "        binarySearch(array[halfLength:len(array)],target)\n",
    "    else :\n",
    "        binarySearch(array[0:halfLength],target);\n",
    "            \n",
    "# linearSearch(arr1,target);\n",
    "binarySearch(arr1,target);\n",
    "\n"
   ]
  },
  {
   "cell_type": "markdown",
   "id": "169c9762",
   "metadata": {},
   "source": [
    "Time Complexity= O(ln(n))"
   ]
  }
 ],
 "metadata": {
  "kernelspec": {
   "display_name": "Python 3 (ipykernel)",
   "language": "python",
   "name": "python3"
  },
  "language_info": {
   "codemirror_mode": {
    "name": "ipython",
    "version": 3
   },
   "file_extension": ".py",
   "mimetype": "text/x-python",
   "name": "python",
   "nbconvert_exporter": "python",
   "pygments_lexer": "ipython3",
   "version": "3.10.8"
  }
 },
 "nbformat": 4,
 "nbformat_minor": 5
}
